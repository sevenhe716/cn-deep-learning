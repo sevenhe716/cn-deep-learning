{
 "cells": [
  {
   "cell_type": "markdown",
   "metadata": {
    "deletable": true,
    "editable": true
   },
   "source": [
    "# Sentiment Analysis with an RNN\n",
    "\n",
    "In this notebook, you'll implement a recurrent neural network that performs sentiment analysis. Using an RNN rather than a feedfoward network is more accurate since we can include information about the *sequence* of words. Here we'll use a dataset of movie reviews, accompanied by labels.\n",
    "\n",
    "The architecture for this network is shown below.\n",
    "\n",
    "<img src=\"assets/network_diagram.png\" width=400px>\n",
    "\n",
    "Here, we'll pass in words to an embedding layer. We need an embedding layer because we have tens of thousands of words, so we'll need a more efficient representation for our input data than one-hot encoded vectors. You should have seen this before from the word2vec lesson. You can actually train up an embedding with word2vec and use it here. But it's good enough to just have an embedding layer and let the network learn the embedding table on it's own.\n",
    "\n",
    "From the embedding layer, the new representations will be passed to LSTM cells. These will add recurrent connections to the network so we can include information about the sequence of words in the data. Finally, the LSTM cells will go to a sigmoid output layer here. We're using the sigmoid because we're trying to predict if this text has positive or negative sentiment. The output layer will just be a single unit then, with a sigmoid activation function.\n",
    "\n",
    "We don't care about the sigmoid outputs except for the very last one, we can ignore the rest. We'll calculate the cost from the output of the last step and the training label."
   ]
  },
  {
   "cell_type": "code",
   "execution_count": 4,
   "metadata": {
    "collapsed": true,
    "deletable": true,
    "editable": true
   },
   "outputs": [],
   "source": [
    "import numpy as np\n",
    "import tensorflow as tf"
   ]
  },
  {
   "cell_type": "code",
   "execution_count": 5,
   "metadata": {
    "collapsed": true,
    "deletable": true,
    "editable": true
   },
   "outputs": [],
   "source": [
    "with open('../sentiment-network/reviews.txt', 'r') as f:\n",
    "    reviews = f.read()\n",
    "with open('../sentiment-network/labels.txt', 'r') as f:\n",
    "    labels = f.read()"
   ]
  },
  {
   "cell_type": "code",
   "execution_count": 6,
   "metadata": {
    "collapsed": false,
    "deletable": true,
    "editable": true
   },
   "outputs": [
    {
     "data": {
      "text/plain": [
       "'bromwell high is a cartoon comedy . it ran at the same time as some other programs about school life  such as  teachers  . my   years in the teaching profession lead me to believe that bromwell high  s satire is much closer to reality than is  teachers  . the scramble to survive financially  the insightful students who can see right through their pathetic teachers  pomp  the pettiness of the whole situation  all remind me of the schools i knew and their students . when i saw the episode in which a student repeatedly tried to burn down the school  i immediately recalled . . . . . . . . . at . . . . . . . . . . high . a classic line inspector i  m here to sack one of your teachers . student welcome to bromwell high . i expect that many adults of my age think that bromwell high is far fetched . what a pity that it isn  t   \\nstory of a man who has unnatural feelings for a pig . starts out with a opening scene that is a terrific example of absurd comedy . a formal orchestra audience is turned into an insane  violent mob by the crazy chantings of it  s singers . unfortunately it stays absurd the whole time with no general narrative eventually making it just too off putting . even those from the era should be turned off . the cryptic dialogue would make shakespeare seem easy to a third grader . on a technical level it  s better than you might think with some good cinematography by future great vilmos zsigmond . future stars sally kirkland and frederic forrest can be seen briefly .  \\nhomelessness  or houselessness as george carlin stated  has been an issue for years but never a plan to help those on the street that were once considered human who did everything from going to school  work  or vote for the matter . most people think of the homeless as just a lost cause while worrying about things such as racism  the war on iraq  pressuring kids to succeed  technology  the elections  inflation  or worrying if they  ll be next to end up on the streets .  br    br   but what if y'"
      ]
     },
     "execution_count": 6,
     "metadata": {},
     "output_type": "execute_result"
    }
   ],
   "source": [
    "reviews[:2000]"
   ]
  },
  {
   "cell_type": "markdown",
   "metadata": {
    "deletable": true,
    "editable": true
   },
   "source": [
    "## Data preprocessing\n",
    "\n",
    "The first step when building a neural network model is getting your data into the proper form to feed into the network. Since we're using embedding layers, we'll need to encode each word with an integer. We'll also want to clean it up a bit.\n",
    "\n",
    "You can see an example of the reviews data above. We'll want to get rid of those periods. Also, you might notice that the reviews are delimited with newlines `\\n`. To deal with those, I'm going to split the text into each review using `\\n` as the delimiter. Then I can combined all the reviews back together into one big string.\n",
    "\n",
    "First, let's remove all punctuation. Then get all the text without the newlines and split it into individual words."
   ]
  },
  {
   "cell_type": "code",
   "execution_count": 7,
   "metadata": {
    "collapsed": true,
    "deletable": true,
    "editable": true
   },
   "outputs": [],
   "source": [
    "from string import punctuation\n",
    "all_text = ''.join([c for c in reviews if c not in punctuation])\n",
    "reviews = all_text.split('\\n')\n",
    "\n",
    "all_text = ' '.join(reviews)\n",
    "words = all_text.split()"
   ]
  },
  {
   "cell_type": "code",
   "execution_count": 8,
   "metadata": {
    "collapsed": false,
    "deletable": true,
    "editable": true
   },
   "outputs": [
    {
     "data": {
      "text/plain": [
       "'bromwell high is a cartoon comedy  it ran at the same time as some other programs about school life  such as  teachers   my   years in the teaching profession lead me to believe that bromwell high  s satire is much closer to reality than is  teachers   the scramble to survive financially  the insightful students who can see right through their pathetic teachers  pomp  the pettiness of the whole situation  all remind me of the schools i knew and their students  when i saw the episode in which a student repeatedly tried to burn down the school  i immediately recalled          at           high  a classic line inspector i  m here to sack one of your teachers  student welcome to bromwell high  i expect that many adults of my age think that bromwell high is far fetched  what a pity that it isn  t    story of a man who has unnatural feelings for a pig  starts out with a opening scene that is a terrific example of absurd comedy  a formal orchestra audience is turned into an insane  violent mob by the crazy chantings of it  s singers  unfortunately it stays absurd the whole time with no general narrative eventually making it just too off putting  even those from the era should be turned off  the cryptic dialogue would make shakespeare seem easy to a third grader  on a technical level it  s better than you might think with some good cinematography by future great vilmos zsigmond  future stars sally kirkland and frederic forrest can be seen briefly    homelessness  or houselessness as george carlin stated  has been an issue for years but never a plan to help those on the street that were once considered human who did everything from going to school  work  or vote for the matter  most people think of the homeless as just a lost cause while worrying about things such as racism  the war on iraq  pressuring kids to succeed  technology  the elections  inflation  or worrying if they  ll be next to end up on the streets   br    br   but what if you were given a bet to live on the st'"
      ]
     },
     "execution_count": 8,
     "metadata": {},
     "output_type": "execute_result"
    }
   ],
   "source": [
    "all_text[:2000]"
   ]
  },
  {
   "cell_type": "code",
   "execution_count": 9,
   "metadata": {
    "collapsed": false,
    "deletable": true,
    "editable": true
   },
   "outputs": [
    {
     "data": {
      "text/plain": [
       "['bromwell',\n",
       " 'high',\n",
       " 'is',\n",
       " 'a',\n",
       " 'cartoon',\n",
       " 'comedy',\n",
       " 'it',\n",
       " 'ran',\n",
       " 'at',\n",
       " 'the',\n",
       " 'same',\n",
       " 'time',\n",
       " 'as',\n",
       " 'some',\n",
       " 'other',\n",
       " 'programs',\n",
       " 'about',\n",
       " 'school',\n",
       " 'life',\n",
       " 'such',\n",
       " 'as',\n",
       " 'teachers',\n",
       " 'my',\n",
       " 'years',\n",
       " 'in',\n",
       " 'the',\n",
       " 'teaching',\n",
       " 'profession',\n",
       " 'lead',\n",
       " 'me',\n",
       " 'to',\n",
       " 'believe',\n",
       " 'that',\n",
       " 'bromwell',\n",
       " 'high',\n",
       " 's',\n",
       " 'satire',\n",
       " 'is',\n",
       " 'much',\n",
       " 'closer',\n",
       " 'to',\n",
       " 'reality',\n",
       " 'than',\n",
       " 'is',\n",
       " 'teachers',\n",
       " 'the',\n",
       " 'scramble',\n",
       " 'to',\n",
       " 'survive',\n",
       " 'financially',\n",
       " 'the',\n",
       " 'insightful',\n",
       " 'students',\n",
       " 'who',\n",
       " 'can',\n",
       " 'see',\n",
       " 'right',\n",
       " 'through',\n",
       " 'their',\n",
       " 'pathetic',\n",
       " 'teachers',\n",
       " 'pomp',\n",
       " 'the',\n",
       " 'pettiness',\n",
       " 'of',\n",
       " 'the',\n",
       " 'whole',\n",
       " 'situation',\n",
       " 'all',\n",
       " 'remind',\n",
       " 'me',\n",
       " 'of',\n",
       " 'the',\n",
       " 'schools',\n",
       " 'i',\n",
       " 'knew',\n",
       " 'and',\n",
       " 'their',\n",
       " 'students',\n",
       " 'when',\n",
       " 'i',\n",
       " 'saw',\n",
       " 'the',\n",
       " 'episode',\n",
       " 'in',\n",
       " 'which',\n",
       " 'a',\n",
       " 'student',\n",
       " 'repeatedly',\n",
       " 'tried',\n",
       " 'to',\n",
       " 'burn',\n",
       " 'down',\n",
       " 'the',\n",
       " 'school',\n",
       " 'i',\n",
       " 'immediately',\n",
       " 'recalled',\n",
       " 'at',\n",
       " 'high']"
      ]
     },
     "execution_count": 9,
     "metadata": {},
     "output_type": "execute_result"
    }
   ],
   "source": [
    "words[:100]"
   ]
  },
  {
   "cell_type": "markdown",
   "metadata": {
    "deletable": true,
    "editable": true
   },
   "source": [
    "### Encoding the words\n",
    "\n",
    "The embedding lookup requires that we pass in integers to our network. The easiest way to do this is to create dictionaries that map the words in the vocabulary to integers. Then we can convert each of our reviews into integers so they can be passed into the network.\n",
    "\n",
    "> **Exercise:** Now you're going to encode the words with integers. Build a dictionary that maps words to integers. Later we're going to pad our input vectors with zeros, so make sure the integers **start at 1, not 0**.\n",
    "> Also, convert the reviews to integers and store the reviews in a new list called `reviews_ints`. "
   ]
  },
  {
   "cell_type": "code",
   "execution_count": 10,
   "metadata": {
    "collapsed": false,
    "deletable": true,
    "editable": true
   },
   "outputs": [],
   "source": [
    "# Create your dictionary that maps vocab words to integers here\n",
    "from collections import Counter\n",
    "word_counts = Counter(words)\n",
    "\n",
    "vocab_to_int = { w : i+1 for i, w in enumerate(word_counts.keys())}\n",
    "\n",
    "# Convert the reviews to integers, same shape as reviews list, but with integers\n",
    "reviews_ints = []\n",
    "for review in reviews:\n",
    "    reviews_ints.append([vocab_to_int[word] for word in review.split()])"
   ]
  },
  {
   "cell_type": "markdown",
   "metadata": {
    "deletable": true,
    "editable": true
   },
   "source": [
    "### Encoding the labels\n",
    "\n",
    "Our labels are \"positive\" or \"negative\". To use these labels in our network, we need to convert them to 0 and 1.\n",
    "\n",
    "> **Exercise:** Convert labels from `positive` and `negative` to 1 and 0, respectively."
   ]
  },
  {
   "cell_type": "code",
   "execution_count": 11,
   "metadata": {
    "collapsed": false,
    "deletable": true,
    "editable": true
   },
   "outputs": [],
   "source": [
    "# Convert labels to 1s and 0s for 'positive' and 'negative'\n",
    "labels = np.array([1 if l=='positive' else 0 for l in labels.split('\\n')])"
   ]
  },
  {
   "cell_type": "markdown",
   "metadata": {
    "deletable": true,
    "editable": true
   },
   "source": [
    "If you built `labels` correctly, you should see the next output."
   ]
  },
  {
   "cell_type": "code",
   "execution_count": 12,
   "metadata": {
    "collapsed": false,
    "deletable": true,
    "editable": true
   },
   "outputs": [
    {
     "name": "stdout",
     "output_type": "stream",
     "text": [
      "Zero-length reviews: 1\n",
      "Maximum review length: 2514\n"
     ]
    }
   ],
   "source": [
    "from collections import Counter\n",
    "review_lens = Counter([len(x) for x in reviews_ints])\n",
    "print(\"Zero-length reviews: {}\".format(review_lens[0]))\n",
    "print(\"Maximum review length: {}\".format(max(review_lens)))"
   ]
  },
  {
   "cell_type": "markdown",
   "metadata": {
    "deletable": true,
    "editable": true
   },
   "source": [
    "Okay, a couple issues here. We seem to have one review with zero length. And, the maximum review length is way too many steps for our RNN. Let's truncate to 200 steps. For reviews shorter than 200, we'll pad with 0s. For reviews longer than 200, we can truncate them to the first 200 characters.\n",
    "\n",
    "> **Exercise:** First, remove the review with zero length from the `reviews_ints` list."
   ]
  },
  {
   "cell_type": "code",
   "execution_count": 13,
   "metadata": {
    "collapsed": false,
    "deletable": true,
    "editable": true
   },
   "outputs": [],
   "source": [
    "# Filter out that review with 0 length\n",
    "non_zero_idx = [i for i, r in enumerate(reviews_ints) if len(r) > 0]\n",
    "\n",
    "reviews_ints = [reviews_ints[i] for i in non_zero_idx]\n",
    "labels = np.array([labels[i] for i in non_zero_idx])"
   ]
  },
  {
   "cell_type": "markdown",
   "metadata": {
    "deletable": true,
    "editable": true
   },
   "source": [
    "> **Exercise:** Now, create an array `features` that contains the data we'll pass to the network. The data should come from `review_ints`, since we want to feed integers to the network. Each row should be 200 elements long. For reviews shorter than 200 words, left pad with 0s. That is, if the review is `['best', 'movie', 'ever']`, `[117, 18, 128]` as integers, the row will look like `[0, 0, 0, ..., 0, 117, 18, 128]`. For reviews longer than 200, use on the first 200 words as the feature vector.\n",
    "\n",
    "This isn't trivial and there are a bunch of ways to do this. But, if you're going to be building your own deep learning networks, you're going to have to get used to preparing your data.\n",
    "\n"
   ]
  },
  {
   "cell_type": "code",
   "execution_count": 14,
   "metadata": {
    "collapsed": true,
    "deletable": true,
    "editable": true
   },
   "outputs": [],
   "source": [
    "seq_len = 200\n",
    "features_list = []\n",
    "for review_ints in reviews_ints:\n",
    "    normalized_review = review_ints[:seq_len]\n",
    "    \n",
    "    if (len(normalized_review) < seq_len):\n",
    "        normalized_review = [0] * (seq_len - len(normalized_review)) + normalized_review\n",
    "        \n",
    "    features_list.append(normalized_review)\n",
    "\n",
    "features = np.array(features_list)"
   ]
  },
  {
   "cell_type": "markdown",
   "metadata": {
    "deletable": true,
    "editable": true
   },
   "source": [
    "If you build features correctly, it should look like that cell output below."
   ]
  },
  {
   "cell_type": "code",
   "execution_count": 15,
   "metadata": {
    "collapsed": false,
    "deletable": true,
    "editable": true
   },
   "outputs": [
    {
     "data": {
      "text/plain": [
       "array([[    0,     0,     0,     0,     0,     0,     0,     0,     0,\n",
       "            0,     0,     0,     0,     0,     0,     0,     0,     0,\n",
       "            0,     0,     0,     0,     0,     0,     0,     0,     0,\n",
       "            0,     0,     0,     0,     0,     0,     0,     0,     0,\n",
       "            0,     0,     0,     0,     0,     0,     0,     0,     0,\n",
       "            0,     0,     0,     0,     0,     0,     0,     0,     0,\n",
       "            0,     0,     0,     0,     0,     0, 60105, 44200,   360,\n",
       "        31245, 42969, 20331, 24247, 53010, 17738,    23, 26907, 24855,\n",
       "        61453, 69443, 36190, 43535, 12900, 56259, 73105,  6555, 61453,\n",
       "        14377, 14591, 71754, 31143,    23, 35347, 47540,  8536, 67561,\n",
       "           87, 19551, 72956, 60105, 44200, 53868, 66174,   360, 44452,\n",
       "        28253],\n",
       "       [    0,     0,     0,     0,     0,     0,     0,     0,     0,\n",
       "            0,     0,     0,     0,     0,     0,     0,     0,     0,\n",
       "            0,     0,     0,     0,     0,     0,     0,     0,     0,\n",
       "            0,     0,     0,     0,     0,     0,     0,     0,     0,\n",
       "            0,     0,     0,     0,     0,     0,     0,     0,     0,\n",
       "            0,     0,     0,     0,     0,     0,     0,     0,     0,\n",
       "            0,     0,     0,     0,     0,     0,     0,     0,     0,\n",
       "            0,     0,     0,     0,     0,     0,     0,     0,     0,\n",
       "            0,     0,     0,     0,     0,     0,     0,     0,     0,\n",
       "            0,     0,     0,     0,     0, 10234, 35608, 31245,  6333,\n",
       "        29292, 12689, 30845,  6851, 42298, 31245, 64991, 10918,  6531,\n",
       "        20234],\n",
       "       [43445, 13890, 53960, 61453, 19884,  7694, 47366, 12689, 22104,\n",
       "        59070, 39949, 42298, 71754,  8174, 46255, 31245, 61198,    87,\n",
       "        20637,  9150,   489,    23, 26078, 72956,  1044, 34865, 71672,\n",
       "         4500, 29292, 64014, 62613, 62669,   941,    87, 56259, 24301,\n",
       "        13890, 50509, 42298,    23, 68679, 31157,  7335, 66860, 35608,\n",
       "           23, 22542, 61453, 28127, 31245, 11822,  8577, 54362, 19970,\n",
       "        12900,  4305,  6555, 61453, 27837,    23, 72601,   489,  4194,\n",
       "        11770, 15848,    87, 68900, 63179,    23, 67503, 25040, 13890,\n",
       "        19970, 32740, 64787, 54156, 36338, 41283,    87, 70297, 54062,\n",
       "          489,    23, 36755, 38116, 38116,  8174, 55957, 32740, 20163,\n",
       "         1044, 19295, 31245, 18803,    87, 14875,   489,    23, 36755,\n",
       "        42298],\n",
       "       [24339, 10918, 61453, 31245, 10388,  1914, 23185, 47249,   360,\n",
       "        49689, 54062, 20234,  3087,  4503,  6555, 46599,    87, 63453,\n",
       "        56406, 21762, 47608, 49156, 60719, 29292,   360, 18287, 56219,\n",
       "        31245, 16095, 35608, 11141, 53868,    87, 24156, 25815, 31143,\n",
       "        24140, 35608, 24247, 48115, 25434,    87,    23, 69869, 61453,\n",
       "        31245, 27131, 62041,   489, 10828,   360, 47608, 57015, 52589,\n",
       "         7706, 17620, 22218, 38877,    23, 23185, 41483, 60864, 24626,\n",
       "        61453, 44125,  8174, 42892,  1008,    23, 47249,   360,  9981,\n",
       "        67021,  7202,    23, 42617, 70912, 73240, 17808, 17488, 24156,\n",
       "        23389, 23530, 53868, 46870, 26259, 40453,  1204, 57575, 72303,\n",
       "        29292, 71299,    23, 20886, 50533,  6531, 20234,  4219, 46103,\n",
       "        64787],\n",
       "       [    0,     0,     0,     0,     0,     0,     0,     0,     0,\n",
       "            0,     0,     0,     0,     0,     0,     0,     0,     0,\n",
       "            0,     0,     0,     0,     0,     0,     0,     0,     0,\n",
       "            0,     0,     0,     0,     0,     0,     0,     0,     0,\n",
       "            0,     0,     0,     0,     0,     0,     0,     0,     0,\n",
       "            0,     0,     0,     0,     0, 68374, 52804, 71158,  7202,\n",
       "        51374,  7051, 48198,  4463, 16593, 25920, 13513, 41684, 49727,\n",
       "        20113, 44327,  7136, 16127,  1724, 31143, 63873, 31925,  4334,\n",
       "        19953,    87, 44605,    23, 12149,   489, 18844,   360, 31245,\n",
       "        26212, 61453, 23837, 61453, 71036, 31143, 16895, 65950,    23,\n",
       "        41256,   489, 16879,   360, 62041, 34335, 61865, 48115, 71779,\n",
       "        35608],\n",
       "       [    0,     0,     0,     0,     0,     0,     0,     0,     0,\n",
       "            0,     0,     0,     0,     0,     0,     0,     0,     0,\n",
       "            0,     0,     0,     0,     0,     0,     0,     0,     0,\n",
       "            0,     0,     0,     0,     0,     0,     0,     0,     0,\n",
       "            0,     0,     0,     0,     0,     0,     0,     0,     0,\n",
       "            0,     0,     0,     0,     0,     0,     0,     0,     0,\n",
       "        34813, 22589, 41927,  3218, 41684, 47928, 60098, 39627, 14591,\n",
       "        26549,   489, 17738, 38525, 63339,   489,    23, 57697, 35608,\n",
       "           23, 45833, 50919, 34813, 39215, 46497,    87, 25864, 35608,\n",
       "        59471, 14590, 14062, 53975,    23, 46914, 20234, 22218, 45833,\n",
       "         6333, 31076,    23, 43581,  1724, 27508, 27315, 61453, 48115,\n",
       "        73938],\n",
       "       [    0,     0,     0,     0,     0,     0,     0,     0,     0,\n",
       "            0,     0,     0,     0,     0,     0,     0,     0,     0,\n",
       "            0,     0,     0,     0,     0,     0,     0,     0,     0,\n",
       "            0,     0,     0,     0,     0,     0,     0,     0,     0,\n",
       "            0,     0,     0,     0,     0,     0,     0,     0,     0,\n",
       "            0,     0,     0,     0,     0,     0,     0,     0,     0,\n",
       "            0,     0,     0,     0,     0,     0,     0,     0,     0,\n",
       "            0,     0,     0,     0,     0,     0,     0,     0,     0,\n",
       "            0,     0,     0,     0, 34813,   360, 10885,    23, 31157,\n",
       "        27984, 22589, 54553,    23, 49296,  7396, 64324, 42195, 25334,\n",
       "        24247, 23007, 68918,  4901, 31245, 26687, 70634, 35608, 43445,\n",
       "        46837],\n",
       "       [    0,     0,     0,     0,     0,     0,     0,     0,     0,\n",
       "            0,     0,     0,     0,     0,     0,     0,     0,     0,\n",
       "            0,     0,     0,     0,     0,     0,     0,     0,     0,\n",
       "            0,     0,     0,     0,     0,     0,     0,     0,     0,\n",
       "            0,     0,     0,     0,     0,     0,     0,     0,     0,\n",
       "            0,     0, 53908, 24615, 41684, 52157, 34813,   360, 52237,\n",
       "           87, 36338, 59070, 13407, 22589,  8174, 10564, 64787, 53236,\n",
       "        49727,  9973,  6531, 45423, 17738,    23, 36447, 68819,  7335,\n",
       "        55921, 33436, 40328, 51680,  6531,  7136, 68918, 17105, 50250,\n",
       "           23, 52881, 65513,  7136, 19678, 44589, 60386,  5936, 34813,\n",
       "        10234,   360, 37213, 23701,    87, 17105,    23, 70076, 35608,\n",
       "        31245],\n",
       "       [    0,     0,     0,     0,     0,     0,     0,     0,     0,\n",
       "            0,     0,     0,     0,     0,     0,     0,     0,     0,\n",
       "            0,     0,     0,     0,     0,     0,     0,     0,     0,\n",
       "            0,     0,     0,     0,     0,     0,     0,     0,     0,\n",
       "            0,     0,     0,     0,     0,     0,     0,     0,     0,\n",
       "            0,     0,     0,     0,     0,     0,     0,     0,     0,\n",
       "            0,     0,     0,     0,     0,     0,     0,     0,     0,\n",
       "            0,     0,     0,     0,     0,     0,     0,     0,     0,\n",
       "            0,     0,     0,     0,     0,     0,     0, 34813,   360,\n",
       "        68918,    23, 44292, 28525, 49296, 22589, 24247, 60386, 44452,\n",
       "        36472, 46831,   735, 31157, 35608, 24156, 46303,  7136,  5510,\n",
       "        18566],\n",
       "       [14590, 41684, 60386, 35790, 14591, 48428, 18509, 67561, 36413,\n",
       "           87,    23, 66282,    87,  5639, 16777, 24247, 60386, 50232,\n",
       "        35608, 55451, 46303, 41684, 42058, 20234, 14591, 48428,  8174,\n",
       "        34813, 60386,    23, 18414, 50232, 25465, 34242,  6531, 35608,\n",
       "        39454, 16368, 41684, 18566, 46255, 44327, 16777, 60989, 28127,\n",
       "         7927,  7136, 41684, 55921, 49727, 63545,  6531,    23, 29082,\n",
       "        35608, 14591, 73105, 23079, 24247, 55957, 31245, 33893, 44729,\n",
       "         7136, 35066, 22280, 42093, 35608, 53868, 17225,  7136, 14663,\n",
       "        16390, 20001, 34193,   360, 50232, 35608, 14591, 54958,  1922,\n",
       "         8174, 16777,   360,  7202, 53726,    23,  1739, 42093, 35608,\n",
       "        58538, 35608, 24156, 30008, 31143,    23, 72608, 35720, 35608,\n",
       "        49048]])"
      ]
     },
     "execution_count": 15,
     "metadata": {},
     "output_type": "execute_result"
    }
   ],
   "source": [
    "features[:10,:100]"
   ]
  },
  {
   "cell_type": "markdown",
   "metadata": {
    "deletable": true,
    "editable": true
   },
   "source": [
    "## Training, Validation, Test\n",
    "\n"
   ]
  },
  {
   "cell_type": "markdown",
   "metadata": {
    "deletable": true,
    "editable": true
   },
   "source": [
    "With our data in nice shape, we'll split it into training, validation, and test sets.\n",
    "\n",
    "> **Exercise:** Create the training, validation, and test sets here. You'll need to create sets for the features and the labels, `train_x` and `train_y` for example. Define a split fraction, `split_frac` as the fraction of data to keep in the training set. Usually this is set to 0.8 or 0.9. The rest of the data will be split in half to create the validation and testing data."
   ]
  },
  {
   "cell_type": "code",
   "execution_count": 16,
   "metadata": {
    "collapsed": false,
    "deletable": true,
    "editable": true
   },
   "outputs": [
    {
     "name": "stdout",
     "output_type": "stream",
     "text": [
      "\t\t\tFeature Shapes:\n",
      "Train set: \t\t(20000, 200) \n",
      "Validation set: \t(2500, 200) \n",
      "Test set: \t\t(2500, 200)\n"
     ]
    },
    {
     "name": "stderr",
     "output_type": "stream",
     "text": [
      "F:\\Anaconda3\\envs\\dog-project\\lib\\site-packages\\ipykernel\\__main__.py:4: VisibleDeprecationWarning: using a non-integer number instead of an integer will result in an error in the future\n",
      "F:\\Anaconda3\\envs\\dog-project\\lib\\site-packages\\ipykernel\\__main__.py:5: VisibleDeprecationWarning: using a non-integer number instead of an integer will result in an error in the future\n"
     ]
    }
   ],
   "source": [
    "split_frac = 0.8\n",
    "split_idx = len(features) * split_frac\n",
    "\n",
    "train_x, val_x = features[:split_idx], features[split_idx:]\n",
    "train_y, val_y = labels[:split_idx], labels[split_idx:]\n",
    "\n",
    "split_idx2 = len(val_x) // 2\n",
    "\n",
    "val_x, test_x = val_x[:split_idx2], val_x[split_idx2:]\n",
    "val_y, test_y = val_y[:split_idx2], val_y[split_idx2:]\n",
    "\n",
    "print(\"\\t\\t\\tFeature Shapes:\")\n",
    "print(\"Train set: \\t\\t{}\".format(train_x.shape), \n",
    "      \"\\nValidation set: \\t{}\".format(val_x.shape),\n",
    "      \"\\nTest set: \\t\\t{}\".format(test_x.shape))"
   ]
  },
  {
   "cell_type": "markdown",
   "metadata": {
    "deletable": true,
    "editable": true
   },
   "source": [
    "With train, validation, and text fractions of 0.8, 0.1, 0.1, the final shapes should look like:\n",
    "```\n",
    "                    Feature Shapes:\n",
    "Train set: \t\t (20000, 200) \n",
    "Validation set: \t(2500, 200) \n",
    "Test set: \t\t  (2500, 200)\n",
    "```"
   ]
  },
  {
   "cell_type": "markdown",
   "metadata": {
    "deletable": true,
    "editable": true
   },
   "source": [
    "## Build the graph\n",
    "\n",
    "Here, we'll build the graph. First up, defining the hyperparameters.\n",
    "\n",
    "* `lstm_size`: Number of units in the hidden layers in the LSTM cells. Usually larger is better performance wise. Common values are 128, 256, 512, etc.\n",
    "* `lstm_layers`: Number of LSTM layers in the network. I'd start with 1, then add more if I'm underfitting.\n",
    "* `batch_size`: The number of reviews to feed the network in one training pass. Typically this should be set as high as you can go without running out of memory.\n",
    "* `learning_rate`: Learning rate"
   ]
  },
  {
   "cell_type": "code",
   "execution_count": 17,
   "metadata": {
    "collapsed": true,
    "deletable": true,
    "editable": true
   },
   "outputs": [],
   "source": [
    "lstm_size = 128\n",
    "lstm_layers = 1\n",
    "batch_size = 200\n",
    "learning_rate = 0.002"
   ]
  },
  {
   "cell_type": "markdown",
   "metadata": {
    "deletable": true,
    "editable": true
   },
   "source": [
    "For the network itself, we'll be passing in our 200 element long review vectors. Each batch will be `batch_size` vectors. We'll also be using dropout on the LSTM layer, so we'll make a placeholder for the keep probability."
   ]
  },
  {
   "cell_type": "markdown",
   "metadata": {
    "deletable": true,
    "editable": true
   },
   "source": [
    "> **Exercise:** Create the `inputs_`, `labels_`, and drop out `keep_prob` placeholders using `tf.placeholder`. `labels_` needs to be two-dimensional to work with some functions later.  Since `keep_prob` is a scalar (a 0-dimensional tensor), you shouldn't provide a size to `tf.placeholder`."
   ]
  },
  {
   "cell_type": "code",
   "execution_count": 18,
   "metadata": {
    "collapsed": true,
    "deletable": true,
    "editable": true
   },
   "outputs": [],
   "source": [
    "n_words = len(vocab_to_int)\n",
    "\n",
    "# Create the graph object\n",
    "graph = tf.Graph()\n",
    "# Add nodes to the graph\n",
    "with graph.as_default():\n",
    "    inputs_ = tf.placeholder(tf.int32, [None, None], name='inputs')\n",
    "    labels_ = tf.placeholder(tf.int32, [None, None], name='labels')\n",
    "    keep_prob = tf.placeholder(tf.float32, name='keep_prob')"
   ]
  },
  {
   "cell_type": "markdown",
   "metadata": {
    "deletable": true,
    "editable": true
   },
   "source": [
    "### Embedding\n",
    "\n",
    "Now we'll add an embedding layer. We need to do this because there are 74000 words in our vocabulary. It is massively inefficient to one-hot encode our classes here. You should remember dealing with this problem from the word2vec lesson. Instead of one-hot encoding, we can have an embedding layer and use that layer as a lookup table. You could train an embedding layer using word2vec, then load it here. But, it's fine to just make a new layer and let the network learn the weights.\n",
    "\n",
    "> **Exercise:** Create the embedding lookup matrix as a `tf.Variable`. Use that embedding matrix to get the embedded vectors to pass to the LSTM cell with [`tf.nn.embedding_lookup`](https://www.tensorflow.org/api_docs/python/tf/nn/embedding_lookup). This function takes the embedding matrix and an input tensor, such as the review vectors. Then, it'll return another tensor with the embedded vectors. So, if the embedding layer has 200 units, the function will return a tensor with size [batch_size, 200].\n",
    "\n"
   ]
  },
  {
   "cell_type": "code",
   "execution_count": 19,
   "metadata": {
    "collapsed": false,
    "deletable": true,
    "editable": true
   },
   "outputs": [],
   "source": [
    "# Size of the embedding vectors (number of units in the embedding layer)\n",
    "embed_size = 300 \n",
    "\n",
    "with graph.as_default():\n",
    "    embedding = tf.Variable(tf.random_uniform((n_words, embed_size), -1, 1))\n",
    "    embed = tf.nn.embedding_lookup(embedding, inputs_)"
   ]
  },
  {
   "cell_type": "markdown",
   "metadata": {
    "deletable": true,
    "editable": true
   },
   "source": [
    "### LSTM cell\n",
    "\n",
    "<img src=\"assets/network_diagram.png\" width=400px>\n",
    "\n",
    "Next, we'll create our LSTM cells to use in the recurrent network ([TensorFlow documentation](https://www.tensorflow.org/api_docs/python/tf/contrib/rnn)). Here we are just defining what the cells look like. This isn't actually building the graph, just defining the type of cells we want in our graph.\n",
    "\n",
    "To create a basic LSTM cell for the graph, you'll want to use `tf.contrib.rnn.BasicLSTMCell`. Looking at the function documentation:\n",
    "\n",
    "```\n",
    "tf.contrib.rnn.BasicLSTMCell(num_units, forget_bias=1.0, input_size=None, state_is_tuple=True, activation=<function tanh at 0x109f1ef28>)\n",
    "```\n",
    "\n",
    "you can see it takes a parameter called `num_units`, the number of units in the cell, called `lstm_size` in this code. So then, you can write something like \n",
    "\n",
    "```\n",
    "lstm = tf.contrib.rnn.BasicLSTMCell(num_units)\n",
    "```\n",
    "\n",
    "to create an LSTM cell with `num_units`. Next, you can add dropout to the cell with `tf.contrib.rnn.DropoutWrapper`. This just wraps the cell in another cell, but with dropout added to the inputs and/or outputs. It's a really convenient way to make your network better with almost no effort! So you'd do something like\n",
    "\n",
    "```\n",
    "drop = tf.contrib.rnn.DropoutWrapper(cell, output_keep_prob=keep_prob)\n",
    "```\n",
    "\n",
    "Most of the time, your network will have better performance with more layers. That's sort of the magic of deep learning, adding more layers allows the network to learn really complex relationships. Again, there is a simple way to create multiple layers of LSTM cells with `tf.contrib.rnn.MultiRNNCell`:\n",
    "\n",
    "```\n",
    "cell = tf.contrib.rnn.MultiRNNCell([drop] * lstm_layers)\n",
    "```\n",
    "\n",
    "Here, `[drop] * lstm_layers` creates a list of cells (`drop`) that is `lstm_layers` long. The `MultiRNNCell` wrapper builds this into multiple layers of RNN cells, one for each cell in the list.\n",
    "\n",
    "So the final cell you're using in the network is actually multiple (or just one) LSTM cells with dropout. But it all works the same from an achitectural viewpoint, just a more complicated graph in the cell.\n",
    "\n",
    "> **Exercise:** Below, use `tf.contrib.rnn.BasicLSTMCell` to create an LSTM cell. Then, add drop out to it with `tf.contrib.rnn.DropoutWrapper`. Finally, create multiple LSTM layers with `tf.contrib.rnn.MultiRNNCell`.\n",
    "\n",
    "Here is [a tutorial on building RNNs](https://www.tensorflow.org/tutorials/recurrent) that will help you out.\n"
   ]
  },
  {
   "cell_type": "code",
   "execution_count": 20,
   "metadata": {
    "collapsed": false,
    "deletable": true,
    "editable": true
   },
   "outputs": [],
   "source": [
    "with graph.as_default():\n",
    "    # Your basic LSTM cell\n",
    "    lstm = tf.contrib.rnn.BasicLSTMCell(lstm_size)\n",
    "    \n",
    "    # Add dropout to the cell\n",
    "    drop = tf.contrib.rnn.DropoutWrapper(lstm, output_keep_prob=keep_prob)\n",
    "    \n",
    "    # Stack up multiple LSTM layers, for deep learning\n",
    "    cell = tf.contrib.rnn.MultiRNNCell([drop] * lstm_layers)\n",
    "    \n",
    "    # Getting an initial state of all zeros\n",
    "    initial_state = cell.zero_state(batch_size, tf.float32)"
   ]
  },
  {
   "cell_type": "markdown",
   "metadata": {
    "deletable": true,
    "editable": true
   },
   "source": [
    "### RNN forward pass\n",
    "\n",
    "<img src=\"assets/network_diagram.png\" width=400px>\n",
    "\n",
    "Now we need to actually run the data through the RNN nodes. You can use [`tf.nn.dynamic_rnn`](https://www.tensorflow.org/api_docs/python/tf/nn/dynamic_rnn) to do this. You'd pass in the RNN cell you created (our multiple layered LSTM `cell` for instance), and the inputs to the network.\n",
    "\n",
    "```\n",
    "outputs, final_state = tf.nn.dynamic_rnn(cell, inputs, initial_state=initial_state)\n",
    "```\n",
    "\n",
    "Above I created an initial state, `initial_state`, to pass to the RNN. This is the cell state that is passed between the hidden layers in successive time steps. `tf.nn.dynamic_rnn` takes care of most of the work for us. We pass in our cell and the input to the cell, then it does the unrolling and everything else for us. It returns outputs for each time step and the final_state of the hidden layer.\n",
    "\n",
    "> **Exercise:** Use `tf.nn.dynamic_rnn` to add the forward pass through the RNN. Remember that we're actually passing in vectors from the embedding layer, `embed`.\n",
    "\n"
   ]
  },
  {
   "cell_type": "code",
   "execution_count": 21,
   "metadata": {
    "collapsed": true,
    "deletable": true,
    "editable": true
   },
   "outputs": [],
   "source": [
    "with graph.as_default():\n",
    "    outputs, final_state = tf.nn.dynamic_rnn(cell, embed, initial_state=initial_state)"
   ]
  },
  {
   "cell_type": "markdown",
   "metadata": {
    "deletable": true,
    "editable": true
   },
   "source": [
    "### Output\n",
    "\n",
    "We only care about the final output, we'll be using that as our sentiment prediction. So we need to grab the last output with `outputs[:, -1]`, the calculate the cost from that and `labels_`."
   ]
  },
  {
   "cell_type": "code",
   "execution_count": 22,
   "metadata": {
    "collapsed": true,
    "deletable": true,
    "editable": true
   },
   "outputs": [],
   "source": [
    "with graph.as_default():\n",
    "    predictions = tf.contrib.layers.fully_connected(outputs[:, -1], 1, activation_fn=tf.sigmoid)\n",
    "    cost = tf.losses.mean_squared_error(labels_, predictions)\n",
    "    \n",
    "    optimizer = tf.train.AdamOptimizer(learning_rate).minimize(cost)"
   ]
  },
  {
   "cell_type": "markdown",
   "metadata": {
    "deletable": true,
    "editable": true
   },
   "source": [
    "### Validation accuracy\n",
    "\n",
    "Here we can add a few nodes to calculate the accuracy which we'll use in the validation pass."
   ]
  },
  {
   "cell_type": "code",
   "execution_count": 23,
   "metadata": {
    "collapsed": true,
    "deletable": true,
    "editable": true
   },
   "outputs": [],
   "source": [
    "with graph.as_default():\n",
    "    correct_pred = tf.equal(tf.cast(tf.round(predictions), tf.int32), labels_)\n",
    "    accuracy = tf.reduce_mean(tf.cast(correct_pred, tf.float32))"
   ]
  },
  {
   "cell_type": "markdown",
   "metadata": {
    "deletable": true,
    "editable": true
   },
   "source": [
    "### Batching\n",
    "\n",
    "This is a simple function for returning batches from our data. First it removes data such that we only have full batches. Then it iterates through the `x` and `y` arrays and returns slices out of those arrays with size `[batch_size]`."
   ]
  },
  {
   "cell_type": "code",
   "execution_count": 24,
   "metadata": {
    "collapsed": true,
    "deletable": true,
    "editable": true
   },
   "outputs": [],
   "source": [
    "def get_batches(x, y, batch_size=100):\n",
    "    \n",
    "    n_batches = len(x)//batch_size\n",
    "    x, y = x[:n_batches*batch_size], y[:n_batches*batch_size]\n",
    "    for ii in range(0, len(x), batch_size):\n",
    "        yield x[ii:ii+batch_size], y[ii:ii+batch_size]"
   ]
  },
  {
   "cell_type": "markdown",
   "metadata": {
    "deletable": true,
    "editable": true
   },
   "source": [
    "## Training\n",
    "\n",
    "Below is the typical training code. If you want to do this yourself, feel free to delete all this code and implement it yourself. Before you run this, make sure the `checkpoints` directory exists."
   ]
  },
  {
   "cell_type": "code",
   "execution_count": 25,
   "metadata": {
    "collapsed": false,
    "deletable": true,
    "editable": true
   },
   "outputs": [
    {
     "name": "stdout",
     "output_type": "stream",
     "text": [
      "Epoch: 0/10 Iteration: 5 Train loss: 0.253\n",
      "Epoch: 0/10 Iteration: 10 Train loss: 0.249\n",
      "Epoch: 0/10 Iteration: 15 Train loss: 0.224\n",
      "Epoch: 0/10 Iteration: 20 Train loss: 0.231\n",
      "Epoch: 0/10 Iteration: 25 Train loss: 0.222\n",
      "Val acc: 0.683\n",
      "Epoch: 0/10 Iteration: 30 Train loss: 0.271\n",
      "Epoch: 0/10 Iteration: 35 Train loss: 0.172\n",
      "Epoch: 0/10 Iteration: 40 Train loss: 0.238\n",
      "Epoch: 0/10 Iteration: 45 Train loss: 0.198\n",
      "Epoch: 0/10 Iteration: 50 Train loss: 0.195\n",
      "Val acc: 0.680\n",
      "Epoch: 0/10 Iteration: 55 Train loss: 0.279\n",
      "Epoch: 0/10 Iteration: 60 Train loss: 0.219\n",
      "Epoch: 0/10 Iteration: 65 Train loss: 0.237\n",
      "Epoch: 0/10 Iteration: 70 Train loss: 0.210\n",
      "Epoch: 0/10 Iteration: 75 Train loss: 0.227\n",
      "Val acc: 0.658\n",
      "Epoch: 0/10 Iteration: 80 Train loss: 0.219\n",
      "Epoch: 0/10 Iteration: 85 Train loss: 0.231\n",
      "Epoch: 0/10 Iteration: 90 Train loss: 0.195\n",
      "Epoch: 0/10 Iteration: 95 Train loss: 0.203\n",
      "Epoch: 0/10 Iteration: 100 Train loss: 0.235\n",
      "Val acc: 0.670\n",
      "Epoch: 1/10 Iteration: 105 Train loss: 0.167\n",
      "Epoch: 1/10 Iteration: 110 Train loss: 0.202\n",
      "Epoch: 1/10 Iteration: 115 Train loss: 0.192\n",
      "Epoch: 1/10 Iteration: 120 Train loss: 0.207\n",
      "Epoch: 1/10 Iteration: 125 Train loss: 0.194\n",
      "Val acc: 0.698\n",
      "Epoch: 1/10 Iteration: 130 Train loss: 0.195\n",
      "Epoch: 1/10 Iteration: 135 Train loss: 0.151\n",
      "Epoch: 1/10 Iteration: 140 Train loss: 0.176\n",
      "Epoch: 1/10 Iteration: 145 Train loss: 0.154\n",
      "Epoch: 1/10 Iteration: 150 Train loss: 0.331\n",
      "Val acc: 0.548\n",
      "Epoch: 1/10 Iteration: 155 Train loss: 0.264\n",
      "Epoch: 1/10 Iteration: 160 Train loss: 0.283\n",
      "Epoch: 1/10 Iteration: 165 Train loss: 0.252\n",
      "Epoch: 1/10 Iteration: 170 Train loss: 0.230\n",
      "Epoch: 1/10 Iteration: 175 Train loss: 0.243\n",
      "Val acc: 0.615\n",
      "Epoch: 1/10 Iteration: 180 Train loss: 0.219\n",
      "Epoch: 1/10 Iteration: 185 Train loss: 0.210\n",
      "Epoch: 1/10 Iteration: 190 Train loss: 0.195\n",
      "Epoch: 1/10 Iteration: 195 Train loss: 0.177\n",
      "Epoch: 1/10 Iteration: 200 Train loss: 0.177\n",
      "Val acc: 0.741\n",
      "Epoch: 2/10 Iteration: 205 Train loss: 0.113\n",
      "Epoch: 2/10 Iteration: 210 Train loss: 0.158\n",
      "Epoch: 2/10 Iteration: 215 Train loss: 0.145\n",
      "Epoch: 2/10 Iteration: 220 Train loss: 0.135\n",
      "Epoch: 2/10 Iteration: 225 Train loss: 0.128\n",
      "Val acc: 0.795\n",
      "Epoch: 2/10 Iteration: 230 Train loss: 0.120\n",
      "Epoch: 2/10 Iteration: 235 Train loss: 0.107\n",
      "Epoch: 2/10 Iteration: 240 Train loss: 0.115\n",
      "Epoch: 2/10 Iteration: 245 Train loss: 0.138\n",
      "Epoch: 2/10 Iteration: 250 Train loss: 0.194\n",
      "Val acc: 0.710\n",
      "Epoch: 2/10 Iteration: 255 Train loss: 0.179\n",
      "Epoch: 2/10 Iteration: 260 Train loss: 0.150\n",
      "Epoch: 2/10 Iteration: 265 Train loss: 0.175\n",
      "Epoch: 2/10 Iteration: 270 Train loss: 0.104\n",
      "Epoch: 2/10 Iteration: 275 Train loss: 0.136\n",
      "Val acc: 0.811\n",
      "Epoch: 2/10 Iteration: 280 Train loss: 0.281\n",
      "Epoch: 2/10 Iteration: 285 Train loss: 0.264\n",
      "Epoch: 2/10 Iteration: 290 Train loss: 0.217\n",
      "Epoch: 2/10 Iteration: 295 Train loss: 0.218\n",
      "Epoch: 2/10 Iteration: 300 Train loss: 0.233\n",
      "Val acc: 0.588\n",
      "Epoch: 3/10 Iteration: 305 Train loss: 0.196\n",
      "Epoch: 3/10 Iteration: 310 Train loss: 0.202\n",
      "Epoch: 3/10 Iteration: 315 Train loss: 0.191\n",
      "Epoch: 3/10 Iteration: 320 Train loss: 0.196\n",
      "Epoch: 3/10 Iteration: 325 Train loss: 0.196\n",
      "Val acc: 0.638\n",
      "Epoch: 3/10 Iteration: 330 Train loss: 0.203\n",
      "Epoch: 3/10 Iteration: 335 Train loss: 0.163\n",
      "Epoch: 3/10 Iteration: 340 Train loss: 0.152\n",
      "Epoch: 3/10 Iteration: 345 Train loss: 0.139\n",
      "Epoch: 3/10 Iteration: 350 Train loss: 0.155\n",
      "Val acc: 0.748\n",
      "Epoch: 3/10 Iteration: 355 Train loss: 0.142\n",
      "Epoch: 3/10 Iteration: 360 Train loss: 0.099\n",
      "Epoch: 3/10 Iteration: 365 Train loss: 0.116\n",
      "Epoch: 3/10 Iteration: 370 Train loss: 0.129\n",
      "Epoch: 3/10 Iteration: 375 Train loss: 0.123\n",
      "Val acc: 0.746\n",
      "Epoch: 3/10 Iteration: 380 Train loss: 0.162\n",
      "Epoch: 3/10 Iteration: 385 Train loss: 0.163\n",
      "Epoch: 3/10 Iteration: 390 Train loss: 0.148\n",
      "Epoch: 3/10 Iteration: 395 Train loss: 0.235\n",
      "Epoch: 3/10 Iteration: 400 Train loss: 0.329\n",
      "Val acc: 0.571\n",
      "Epoch: 4/10 Iteration: 405 Train loss: 0.207\n",
      "Epoch: 4/10 Iteration: 410 Train loss: 0.117\n",
      "Epoch: 4/10 Iteration: 415 Train loss: 0.157\n",
      "Epoch: 4/10 Iteration: 420 Train loss: 0.144\n",
      "Epoch: 4/10 Iteration: 425 Train loss: 0.119\n",
      "Val acc: 0.795\n",
      "Epoch: 4/10 Iteration: 430 Train loss: 0.128\n",
      "Epoch: 4/10 Iteration: 435 Train loss: 0.112\n",
      "Epoch: 4/10 Iteration: 440 Train loss: 0.090\n",
      "Epoch: 4/10 Iteration: 445 Train loss: 0.119\n",
      "Epoch: 4/10 Iteration: 450 Train loss: 0.121\n",
      "Val acc: 0.781\n",
      "Epoch: 4/10 Iteration: 455 Train loss: 0.191\n",
      "Epoch: 4/10 Iteration: 460 Train loss: 0.154\n",
      "Epoch: 4/10 Iteration: 465 Train loss: 0.178\n",
      "Epoch: 4/10 Iteration: 470 Train loss: 0.127\n",
      "Epoch: 4/10 Iteration: 475 Train loss: 0.146\n",
      "Val acc: 0.689\n",
      "Epoch: 4/10 Iteration: 480 Train loss: 0.135\n",
      "Epoch: 4/10 Iteration: 485 Train loss: 0.138\n",
      "Epoch: 4/10 Iteration: 490 Train loss: 0.118\n",
      "Epoch: 4/10 Iteration: 495 Train loss: 0.159\n",
      "Epoch: 4/10 Iteration: 500 Train loss: 0.160\n",
      "Val acc: 0.745\n",
      "Epoch: 5/10 Iteration: 505 Train loss: 0.112\n",
      "Epoch: 5/10 Iteration: 510 Train loss: 0.102\n",
      "Epoch: 5/10 Iteration: 515 Train loss: 0.098\n",
      "Epoch: 5/10 Iteration: 520 Train loss: 0.095\n",
      "Epoch: 5/10 Iteration: 525 Train loss: 0.092\n",
      "Val acc: 0.781\n",
      "Epoch: 5/10 Iteration: 530 Train loss: 0.122\n",
      "Epoch: 5/10 Iteration: 535 Train loss: 0.074\n",
      "Epoch: 5/10 Iteration: 540 Train loss: 0.057\n",
      "Epoch: 5/10 Iteration: 545 Train loss: 0.075\n",
      "Epoch: 5/10 Iteration: 550 Train loss: 0.103\n",
      "Val acc: 0.812\n",
      "Epoch: 5/10 Iteration: 555 Train loss: 0.101\n",
      "Epoch: 5/10 Iteration: 560 Train loss: 0.140\n",
      "Epoch: 5/10 Iteration: 565 Train loss: 0.090\n",
      "Epoch: 5/10 Iteration: 570 Train loss: 0.074\n",
      "Epoch: 5/10 Iteration: 575 Train loss: 0.064\n",
      "Val acc: 0.827\n",
      "Epoch: 5/10 Iteration: 580 Train loss: 0.103\n",
      "Epoch: 5/10 Iteration: 585 Train loss: 0.129\n",
      "Epoch: 5/10 Iteration: 590 Train loss: 0.074\n",
      "Epoch: 5/10 Iteration: 595 Train loss: 0.122\n",
      "Epoch: 5/10 Iteration: 600 Train loss: 0.101\n",
      "Val acc: 0.797\n",
      "Epoch: 6/10 Iteration: 605 Train loss: 0.082\n",
      "Epoch: 6/10 Iteration: 610 Train loss: 0.076\n",
      "Epoch: 6/10 Iteration: 615 Train loss: 0.051\n",
      "Epoch: 6/10 Iteration: 620 Train loss: 0.066\n",
      "Epoch: 6/10 Iteration: 625 Train loss: 0.082\n",
      "Val acc: 0.810\n",
      "Epoch: 6/10 Iteration: 630 Train loss: 0.148\n",
      "Epoch: 6/10 Iteration: 635 Train loss: 0.101\n",
      "Epoch: 6/10 Iteration: 640 Train loss: 0.061\n",
      "Epoch: 6/10 Iteration: 645 Train loss: 0.066\n",
      "Epoch: 6/10 Iteration: 650 Train loss: 0.117\n",
      "Val acc: 0.796\n",
      "Epoch: 6/10 Iteration: 655 Train loss: 0.085\n",
      "Epoch: 6/10 Iteration: 660 Train loss: 0.065\n",
      "Epoch: 6/10 Iteration: 665 Train loss: 0.066\n",
      "Epoch: 6/10 Iteration: 670 Train loss: 0.051\n",
      "Epoch: 6/10 Iteration: 675 Train loss: 0.042\n",
      "Val acc: 0.821\n",
      "Epoch: 6/10 Iteration: 680 Train loss: 0.077\n",
      "Epoch: 6/10 Iteration: 685 Train loss: 0.090\n",
      "Epoch: 6/10 Iteration: 690 Train loss: 0.047\n",
      "Epoch: 6/10 Iteration: 695 Train loss: 0.067\n",
      "Epoch: 6/10 Iteration: 700 Train loss: 0.060\n",
      "Val acc: 0.824\n",
      "Epoch: 7/10 Iteration: 705 Train loss: 0.054\n",
      "Epoch: 7/10 Iteration: 710 Train loss: 0.050\n",
      "Epoch: 7/10 Iteration: 715 Train loss: 0.040\n",
      "Epoch: 7/10 Iteration: 720 Train loss: 0.048\n",
      "Epoch: 7/10 Iteration: 725 Train loss: 0.053\n",
      "Val acc: 0.797\n",
      "Epoch: 7/10 Iteration: 730 Train loss: 0.052\n",
      "Epoch: 7/10 Iteration: 735 Train loss: 0.048\n",
      "Epoch: 7/10 Iteration: 740 Train loss: 0.056\n",
      "Epoch: 7/10 Iteration: 745 Train loss: 0.027\n",
      "Epoch: 7/10 Iteration: 750 Train loss: 0.084\n",
      "Val acc: 0.785\n",
      "Epoch: 7/10 Iteration: 755 Train loss: 0.062\n",
      "Epoch: 7/10 Iteration: 760 Train loss: 0.043\n",
      "Epoch: 7/10 Iteration: 765 Train loss: 0.059\n",
      "Epoch: 7/10 Iteration: 770 Train loss: 0.037\n",
      "Epoch: 7/10 Iteration: 775 Train loss: 0.028\n",
      "Val acc: 0.802\n",
      "Epoch: 7/10 Iteration: 780 Train loss: 0.069\n",
      "Epoch: 7/10 Iteration: 785 Train loss: 0.083\n",
      "Epoch: 7/10 Iteration: 790 Train loss: 0.028\n",
      "Epoch: 7/10 Iteration: 795 Train loss: 0.047\n",
      "Epoch: 7/10 Iteration: 800 Train loss: 0.045\n",
      "Val acc: 0.815\n",
      "Epoch: 8/10 Iteration: 805 Train loss: 0.046\n",
      "Epoch: 8/10 Iteration: 810 Train loss: 0.026\n",
      "Epoch: 8/10 Iteration: 815 Train loss: 0.026\n",
      "Epoch: 8/10 Iteration: 820 Train loss: 0.038\n",
      "Epoch: 8/10 Iteration: 825 Train loss: 0.036\n",
      "Val acc: 0.808\n",
      "Epoch: 8/10 Iteration: 830 Train loss: 0.030\n",
      "Epoch: 8/10 Iteration: 835 Train loss: 0.040\n",
      "Epoch: 8/10 Iteration: 840 Train loss: 0.048\n",
      "Epoch: 8/10 Iteration: 845 Train loss: 0.028\n",
      "Epoch: 8/10 Iteration: 850 Train loss: 0.094\n",
      "Val acc: 0.720\n",
      "Epoch: 8/10 Iteration: 855 Train loss: 0.042\n",
      "Epoch: 8/10 Iteration: 860 Train loss: 0.032\n",
      "Epoch: 8/10 Iteration: 865 Train loss: 0.046\n",
      "Epoch: 8/10 Iteration: 870 Train loss: 0.025\n",
      "Epoch: 8/10 Iteration: 875 Train loss: 0.025\n",
      "Val acc: 0.782\n",
      "Epoch: 8/10 Iteration: 880 Train loss: 0.051\n",
      "Epoch: 8/10 Iteration: 885 Train loss: 0.066\n",
      "Epoch: 8/10 Iteration: 890 Train loss: 0.028\n",
      "Epoch: 8/10 Iteration: 895 Train loss: 0.032\n",
      "Epoch: 8/10 Iteration: 900 Train loss: 0.031\n",
      "Val acc: 0.825\n",
      "Epoch: 9/10 Iteration: 905 Train loss: 0.039\n",
      "Epoch: 9/10 Iteration: 910 Train loss: 0.025\n",
      "Epoch: 9/10 Iteration: 915 Train loss: 0.044\n",
      "Epoch: 9/10 Iteration: 920 Train loss: 0.043\n",
      "Epoch: 9/10 Iteration: 925 Train loss: 0.053\n",
      "Val acc: 0.756\n",
      "Epoch: 9/10 Iteration: 930 Train loss: 0.046\n",
      "Epoch: 9/10 Iteration: 935 Train loss: 0.036\n",
      "Epoch: 9/10 Iteration: 940 Train loss: 0.039\n",
      "Epoch: 9/10 Iteration: 945 Train loss: 0.023\n",
      "Epoch: 9/10 Iteration: 950 Train loss: 0.048\n",
      "Val acc: 0.808\n",
      "Epoch: 9/10 Iteration: 955 Train loss: 0.035\n",
      "Epoch: 9/10 Iteration: 960 Train loss: 0.034\n",
      "Epoch: 9/10 Iteration: 965 Train loss: 0.030\n",
      "Epoch: 9/10 Iteration: 970 Train loss: 0.029\n",
      "Epoch: 9/10 Iteration: 975 Train loss: 0.007\n",
      "Val acc: 0.815\n",
      "Epoch: 9/10 Iteration: 980 Train loss: 0.054\n",
      "Epoch: 9/10 Iteration: 985 Train loss: 0.055\n",
      "Epoch: 9/10 Iteration: 990 Train loss: 0.032\n",
      "Epoch: 9/10 Iteration: 995 Train loss: 0.043\n",
      "Epoch: 9/10 Iteration: 1000 Train loss: 0.028\n",
      "Val acc: 0.816\n"
     ]
    }
   ],
   "source": [
    "epochs = 10\n",
    "\n",
    "with graph.as_default():\n",
    "    saver = tf.train.Saver()\n",
    "\n",
    "with tf.Session(graph=graph) as sess:\n",
    "    sess.run(tf.global_variables_initializer())\n",
    "    iteration = 1\n",
    "    for e in range(epochs):\n",
    "        state = sess.run(initial_state)\n",
    "        \n",
    "        for ii, (x, y) in enumerate(get_batches(train_x, train_y, batch_size), 1):\n",
    "            feed = {inputs_: x,\n",
    "                    labels_: y[:, None],\n",
    "                    keep_prob: 0.5,\n",
    "                    initial_state: state}\n",
    "            loss, state, _ = sess.run([cost, final_state, optimizer], feed_dict=feed)\n",
    "            \n",
    "            if iteration%5==0:\n",
    "                print(\"Epoch: {}/{}\".format(e, epochs),\n",
    "                      \"Iteration: {}\".format(iteration),\n",
    "                      \"Train loss: {:.3f}\".format(loss))\n",
    "\n",
    "            if iteration%25==0:\n",
    "                val_acc = []\n",
    "                val_state = sess.run(cell.zero_state(batch_size, tf.float32))\n",
    "                for x, y in get_batches(val_x, val_y, batch_size):\n",
    "                    feed = {inputs_: x,\n",
    "                            labels_: y[:, None],\n",
    "                            keep_prob: 1,\n",
    "                            initial_state: val_state}\n",
    "                    batch_acc, val_state = sess.run([accuracy, final_state], feed_dict=feed)\n",
    "                    val_acc.append(batch_acc)\n",
    "                print(\"Val acc: {:.3f}\".format(np.mean(val_acc)))\n",
    "            iteration +=1\n",
    "    saver.save(sess, \"checkpoints/sentiment.ckpt\")"
   ]
  },
  {
   "cell_type": "markdown",
   "metadata": {
    "deletable": true,
    "editable": true
   },
   "source": [
    "## Testing"
   ]
  },
  {
   "cell_type": "code",
   "execution_count": 26,
   "metadata": {
    "collapsed": false,
    "deletable": true,
    "editable": true
   },
   "outputs": [
    {
     "name": "stdout",
     "output_type": "stream",
     "text": [
      "Test accuracy: 0.815\n"
     ]
    }
   ],
   "source": [
    "test_acc = []\n",
    "with tf.Session(graph=graph) as sess:\n",
    "    saver.restore(sess, tf.train.latest_checkpoint('checkpoints'))\n",
    "    test_state = sess.run(cell.zero_state(batch_size, tf.float32))\n",
    "    for ii, (x, y) in enumerate(get_batches(test_x, test_y, batch_size), 1):\n",
    "        feed = {inputs_: x,\n",
    "                labels_: y[:, None],\n",
    "                keep_prob: 1,\n",
    "                initial_state: test_state}\n",
    "        batch_acc, test_state = sess.run([accuracy, final_state], feed_dict=feed)\n",
    "        test_acc.append(batch_acc)\n",
    "    print(\"Test accuracy: {:.3f}\".format(np.mean(test_acc)))"
   ]
  },
  {
   "cell_type": "code",
   "execution_count": null,
   "metadata": {
    "collapsed": true
   },
   "outputs": [],
   "source": []
  }
 ],
 "metadata": {
  "anaconda-cloud": {},
  "kernelspec": {
   "display_name": "Python [default]",
   "language": "python",
   "name": "python3"
  },
  "language_info": {
   "codemirror_mode": {
    "name": "ipython",
    "version": 3
   },
   "file_extension": ".py",
   "mimetype": "text/x-python",
   "name": "python",
   "nbconvert_exporter": "python",
   "pygments_lexer": "ipython3",
   "version": "3.5.3"
  }
 },
 "nbformat": 4,
 "nbformat_minor": 2
}
